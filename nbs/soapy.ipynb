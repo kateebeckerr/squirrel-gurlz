{
 "cells": [
  {
   "cell_type": "markdown",
   "metadata": {},
   "source": [
    "# Where is Seaborn?\n",
    "\n",
    "Seaborn Website: https://seaborn.pydata.org/index.html\n",
    "\n",
    "    Contains a ton of tutorials about the installation process, how to apply different powerful statistical visualization tools, and galleries demonstrating reproducible examples.\n",
    "\n",
    "Seaborn Github: https://github.com/mwaskom/seaborn\n",
    "\n",
    "    Contains a link to the seaborn website and a detailed README document that details the Python 3.8+ system library dependenices required to use Seaborn. (These included numpy, pandas, and matplotlib). Notes on citaiton, testing, and development are additionally included.  \n",
    "\n"
   ]
  },
  {
   "cell_type": "markdown",
   "metadata": {},
   "source": [
    "# Joint Kernel Density Estimate of Bill Length vs Bill Depth (mm)\n",
    "### Visualizing Continuous Data "
   ]
  },
  {
   "cell_type": "code",
   "execution_count": null,
   "metadata": {},
   "outputs": [],
   "source": [
    "import pandas as pd\n",
    "import numpy as np\n",
    "import matplotlib.pyplot as plt\n",
    "import seaborn as sns\n",
    "\n",
    "\n",
    "penguins = sns.load_dataset(\"penguins\")     # Load the penguins dataset\n",
    "\n",
    "# Show the joint distribution using kernel density estimation\n",
    "fig = plt.figure(figsize=(10,8))            # Creating a figure with desired dimension\n",
    "\n",
    "sns.set_theme(style=\"ticks\")                # Sets theme of graph to have major and minor tick marks on gray axes, with a white background\n",
    "\n",
    "jkde = sns.jointplot(\n",
    "    data=penguins,          # assigns the data set\n",
    "    x=\"bill_length_mm\",     # assigns the x variable \n",
    "    y=\"bill_depth_mm\",      # assigns the y variable\n",
    "    hue=\"species\",          # assigns a variable to differentiate color by\n",
    "    kind=\"kde\",             # asks to provide a kernel density estimation\n",
    "    palette=\"plasma\",       # assigns the color palette to hue  \n",
    "    levels=10,              # assigns the number of density contour levels\n",
    "    fill=True               # asks for density contour levels to be filled\n",
    ")\n",
    "jkde.set_axis_labels('Bill Length (mm)', \"Bill Depth (mm)\")                                         # x and y axis labels\n",
    "jkde.fig.suptitle(\"Joint Kernel Density Estimate of Bill Length vs Bill Depth (mm)\", y =1.02)       # title of graph positioned not to overlap\n",
    "\n",
    "plt.show()                  # displays beautiful joint kde "
   ]
  },
  {
   "cell_type": "markdown",
   "metadata": {},
   "source": [
    "Each layer represents the data distributions for each species. Darker colors indicate greater data density for readings in that region. The length and size of the layers also demonstrates the spread of data points within that level. A normal distribution of each species data for both attributes are displayed on the upper axis (Bill Length (mm)) and right axis (Bill Depth (mm))."
   ]
  },
  {
   "cell_type": "markdown",
   "metadata": {},
   "source": [
    "# Scatterplot Matrix"
   ]
  },
  {
   "cell_type": "code",
   "execution_count": null,
   "metadata": {},
   "outputs": [],
   "source": [
    "\n",
    "penguins = sns.load_dataset(\"penguins\")   # Load the penguins dataset\n",
    "sns.set_theme(style=\"ticks\")              # Sets theme of graph to have major and minor tick marks on gray axes, with a white background\n",
    "\n",
    "scattermatrix = sns.pairplot(             # asks to generate a grid of plots\n",
    "            penguins,                     # assigns data set \n",
    "            hue=\"species\",                # assigns a variable to differentiate color by\n",
    "            palette=\"spring\",             # assigns a color palette to hue\n",
    "            )             \n",
    "scattermatrix.fig.suptitle(\"Scatterplot Matrix of Penguin Attributes\", y =1.02, fontsize=30)       # assigns title position not to overlap\n",
    "scattermatrix.legend.set_bbox_to_anchor((1.08,0.5))                                                # assigns legend position not to overlap\n",
    "scattermatrix.legend.set_title('Species')                                                          # assigns title to legend\n",
    "\n",
    "plt.tight_layout()                        # formats the layout to be tight\n",
    "plt.show()                                # displays beautiful scatterplot matrix"
   ]
  },
  {
   "cell_type": "markdown",
   "metadata": {},
   "source": [
    "The scatterplot matrix above provides insight into the species relationships amongst the continous variables: body mass (g), bill length (mm), bill depth (mm), and fillper length (mm).\n",
    "For the plots that consider the same variable, a normal distribution plot is provided to describe the spread of the data. Whereas the other plots articulate the different trends when comparing different penguin attributes."
   ]
  },
  {
   "cell_type": "code",
   "execution_count": null,
   "metadata": {},
   "outputs": [],
   "source": [
    "print(penguins)\n",
    "\n"
   ]
  },
  {
   "cell_type": "markdown",
   "metadata": {},
   "source": [
    "# Resources Utilized"
   ]
  },
  {
   "cell_type": "markdown",
   "metadata": {},
   "source": [
    "https://seaborn.pydata.org/index.html\n",
    "\n",
    "https://github.com/mwaskom/seaborn\n",
    "\n",
    "https://matplotlib.org/stable/tutorials/colors/colormaps.html\n",
    "\n",
    "https://seaborn.pydata.org/examples/joint_kde.html#joint-kernel-density-estimate\n",
    "\n",
    "https://seaborn.pydata.org/examples/scatterplot_matrix.html\n",
    "\n",
    "https://chat.openai.com/c/c8f56284-204e-4fdb-aae5-43e3db03e3a0\n",
    "\n",
    "\n",
    "\n",
    "\n",
    "seaborn scientific pub. citation: @article{Waskom2021,\n",
    "    doi = {10.21105/joss.03021},\n",
    "    url = {https://doi.org/10.21105/joss.03021},\n",
    "    year = {2021},\n",
    "    publisher = {The Open Journal},\n",
    "    volume = {6},\n",
    "    number = {60},\n",
    "    pages = {3021},\n",
    "    author = {Michael L. Waskom},\n",
    "    title = {seaborn: statistical data visualization},\n",
    "    journal = {Journal of Open Source Software}\n",
    " }\n",
    "\n",
    "\n"
   ]
  }
 ],
 "metadata": {
  "kernelspec": {
   "display_name": "squirrelgurlz",
   "language": "python",
   "name": "python3"
  },
  "language_info": {
   "codemirror_mode": {
    "name": "ipython",
    "version": 3
   },
   "file_extension": ".py",
   "mimetype": "text/x-python",
   "name": "python",
   "nbconvert_exporter": "python",
   "pygments_lexer": "ipython3",
   "version": "3.10.13"
  },
  "orig_nbformat": 4
 },
 "nbformat": 4,
 "nbformat_minor": 2
}
