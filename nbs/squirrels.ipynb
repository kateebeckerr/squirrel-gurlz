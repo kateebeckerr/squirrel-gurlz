{
 "cells": [
  {
   "cell_type": "markdown",
   "metadata": {},
   "source": [
    "# Reading in Libraries & Data"
   ]
  },
  {
   "cell_type": "code",
   "execution_count": null,
   "metadata": {},
   "outputs": [],
   "source": [
    "import numpy as np\n",
    "import matplotlib as plt\n",
    "import pandas as pd \n",
    "import seaborn as sns\n",
    "\n",
    "squirrels = pd.read_csv('../data/2018_Central_Park_Squirrel_Census_-_Squirrel_Data.csv')\n",
    "\n",
    "def snake_case(column_name):\n",
    "    return column_name.strip().replace(' ', '_').lower()\n",
    "squirrels.rename(columns=snake_case, inplace=True)\n",
    "\n"
   ]
  },
  {
   "cell_type": "markdown",
   "metadata": {},
   "source": [
    "# Exploring Data"
   ]
  },
  {
   "cell_type": "code",
   "execution_count": 6,
   "metadata": {},
   "outputs": [
    {
     "name": "stdout",
     "output_type": "stream",
     "text": [
      "              X          Y Unique Squirrel ID Hectare Shift      Date  \\\n",
      "0    -73.956134  40.794082     37F-PM-1014-03     37F    PM  10142018   \n",
      "1    -73.968857  40.783783     21B-AM-1019-04     21B    AM  10192018   \n",
      "2    -73.974281  40.775534     11B-PM-1014-08     11B    PM  10142018   \n",
      "3    -73.959641  40.790313     32E-PM-1017-14     32E    PM  10172018   \n",
      "4    -73.970268  40.776213     13E-AM-1017-05     13E    AM  10172018   \n",
      "...         ...        ...                ...     ...   ...       ...   \n",
      "3018 -73.963943  40.790868     30B-AM-1007-04     30B    AM  10072018   \n",
      "3019 -73.970402  40.782560     19A-PM-1013-05     19A    PM  10132018   \n",
      "3020 -73.966587  40.783678     22D-PM-1012-07     22D    PM  10122018   \n",
      "3021 -73.963994  40.789915     29B-PM-1010-02     29B    PM  10102018   \n",
      "3022 -73.975479  40.769640      5E-PM-1012-01     05E    PM  10122018   \n",
      "\n",
      "      Hectare Squirrel Number    Age Primary Fur Color  \\\n",
      "0                           3    NaN               NaN   \n",
      "1                           4    NaN               NaN   \n",
      "2                           8    NaN              Gray   \n",
      "3                          14  Adult              Gray   \n",
      "4                           5  Adult              Gray   \n",
      "...                       ...    ...               ...   \n",
      "3018                        4  Adult              Gray   \n",
      "3019                        5  Adult              Gray   \n",
      "3020                        7  Adult              Gray   \n",
      "3021                        2    NaN              Gray   \n",
      "3022                        1  Adult          Cinnamon   \n",
      "\n",
      "         Highlight Fur Color  ...   Kuks  Quaas  Moans Tail flags  \\\n",
      "0                        NaN  ...  False  False  False      False   \n",
      "1                        NaN  ...  False  False  False      False   \n",
      "2                        NaN  ...  False  False  False      False   \n",
      "3                        NaN  ...  False  False  False      False   \n",
      "4                   Cinnamon  ...  False  False  False      False   \n",
      "...                      ...  ...    ...    ...    ...        ...   \n",
      "3018                     NaN  ...  False  False  False      False   \n",
      "3019                   White  ...  False  False  False      False   \n",
      "3020  Black, Cinnamon, White  ...  False  False  False      False   \n",
      "3021         Cinnamon, White  ...  False  False  False      False   \n",
      "3022             Gray, White  ...  False  False  False      False   \n",
      "\n",
      "     Tail twitches  Approaches  Indifferent  Runs from  Other Interactions  \\\n",
      "0            False       False        False      False                 NaN   \n",
      "1            False       False        False      False                 NaN   \n",
      "2            False       False        False      False                 NaN   \n",
      "3            False       False        False       True                 NaN   \n",
      "4            False       False        False      False                 NaN   \n",
      "...            ...         ...          ...        ...                 ...   \n",
      "3018         False       False        False       True                 NaN   \n",
      "3019         False       False         True      False                 NaN   \n",
      "3020         False       False         True      False                 NaN   \n",
      "3021         False       False         True      False                 NaN   \n",
      "3022         False        True        False      False                 NaN   \n",
      "\n",
      "                                        Lat/Long  \n",
      "0     POINT (-73.9561344937861 40.7940823884086)  \n",
      "1     POINT (-73.9688574691102 40.7837825208444)  \n",
      "2     POINT (-73.97428114848522 40.775533619083)  \n",
      "3     POINT (-73.9596413903948 40.7903128889029)  \n",
      "4     POINT (-73.9702676472613 40.7762126854894)  \n",
      "...                                          ...  \n",
      "3018  POINT (-73.9639431360458 40.7908677445466)  \n",
      "3019  POINT (-73.9704015859639 40.7825600069973)  \n",
      "3020  POINT (-73.9665871993517 40.7836775064883)  \n",
      "3021  POINT (-73.9639941227864 40.7899152327912)  \n",
      "3022  POINT (-73.9754794191553 40.7696404489025)  \n",
      "\n",
      "[3023 rows x 31 columns]\n"
     ]
    }
   ],
   "source": [
    "print(squirrels)\n"
   ]
  },
  {
   "cell_type": "code",
   "execution_count": null,
   "metadata": {},
   "outputs": [],
   "source": [
    "print(squirrels.head())\n",
    "\n",
    "print(squirrels.describe)\n",
    "\n",
    "print(squirrels.info())\n",
    "\n",
    "print(squirrels.columns)"
   ]
  },
  {
   "cell_type": "markdown",
   "metadata": {},
   "source": [
    "# Seaborn Library Exploration\n",
    "pretty plot playtime!"
   ]
  },
  {
   "cell_type": "markdown",
   "metadata": {},
   "source": [
    "# Brief Description"
   ]
  },
  {
   "cell_type": "markdown",
   "metadata": {},
   "source": []
  },
  {
   "cell_type": "markdown",
   "metadata": {},
   "source": [
    "# What is it?\n"
   ]
  },
  {
   "cell_type": "markdown",
   "metadata": {},
   "source": []
  },
  {
   "cell_type": "markdown",
   "metadata": {},
   "source": [
    "# Where is it? Link to project webpage, github\n"
   ]
  },
  {
   "cell_type": "markdown",
   "metadata": {},
   "source": []
  },
  {
   "cell_type": "markdown",
   "metadata": {},
   "source": [
    "# Who developed?\n"
   ]
  },
  {
   "cell_type": "markdown",
   "metadata": {},
   "source": []
  },
  {
   "cell_type": "markdown",
   "metadata": {},
   "source": [
    "# Why was it created?"
   ]
  },
  {
   "cell_type": "markdown",
   "metadata": {},
   "source": []
  },
  {
   "cell_type": "code",
   "execution_count": null,
   "metadata": {},
   "outputs": [],
   "source": []
  }
 ],
 "metadata": {
  "kernelspec": {
   "display_name": "eds217_2023",
   "language": "python",
   "name": "python3"
  },
  "language_info": {
   "codemirror_mode": {
    "name": "ipython",
    "version": 3
   },
   "file_extension": ".py",
   "mimetype": "text/x-python",
   "name": "python",
   "nbconvert_exporter": "python",
   "pygments_lexer": "ipython3",
   "version": "3.10.13"
  },
  "orig_nbformat": 4
 },
 "nbformat": 4,
 "nbformat_minor": 2
}
