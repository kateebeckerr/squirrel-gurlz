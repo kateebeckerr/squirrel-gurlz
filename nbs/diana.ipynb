{
 "cells": [
  {
   "cell_type": "code",
   "execution_count": null,
   "metadata": {},
   "outputs": [],
   "source": [
    "import seaborn as sns\n",
    "import matplotlib.pyplot as plt\n",
    "sns.set_theme(style=\"whitegrid\")\n",
    "\n",
    "# Load the penguins dataset\n",
    "penguins = sns.load_dataset(\"penguins\")\n",
    "\n",
    "# Draw a scatter plot while assigning point colors and sizes to different\n",
    "# variables in the dataset\n",
    "f, ax = plt.subplots(figsize=(6.5, 6.5)) # store the figure and axes objects to create a single subplot\n",
    "sns.despine(f, left=True, bottom=True) #removes the frame from the plot\n",
    "species_ranking = [\"Adelie\", \"Chinstrap\", \"Gentoo\"] #store this so it could late be used to organize the plot\n",
    "sns.scatterplot(x=\"flipper_length_mm\", y=\"body_mass_g\", #call the x and y varaibles from data frame\n",
    "                hue=\"species\",  #order it by species\n",
    "                size='body_mass_g', #size of the points determined by body mass\n",
    "                palette=\"ch:r=-.4,d=.2_r\", #choose color palette\n",
    "                hue_order=species_ranking, #specifies the order in the legend\n",
    "                sizes=(10, 40), #min and max size of the points\n",
    "                linewidth=0, #removes the border around the points\n",
    "                data=penguins, #call your data\n",
    "                ax=ax) #plot should be created on axes object used earlier\n",
    "\n",
    "# Set axis labels using Seaborn\n",
    "plt.ylabel(\"Body Mass (g)\")\n",
    "plt.xlabel(\"Flipper Length (mm)\")\n",
    "plt.title(\"Body Mass vs Flipper Length\")\n",
    "plt.legend( \n",
    "    loc=\"upper left\", bbox_to_anchor=(1, 1),\n",
    ")"
   ]
  },
  {
   "cell_type": "markdown",
   "metadata": {},
   "source": [
    "This plot shows the relationship between flipper length and body mass. Although it looks like a regular scatterplot, seaborn can do a lot with a much bigger dataset. ~344 values in each col"
   ]
  },
  {
   "cell_type": "code",
   "execution_count": null,
   "metadata": {},
   "outputs": [],
   "source": [
    "import seaborn as sns\n",
    "import matplotlib.pyplot as plt\n",
    "sns.set_theme(style=\"whitegrid\")\n",
    "\n",
    "# Load the example diamonds dataset\n",
    "diamonds = sns.load_dataset(\"diamonds\")\n",
    "\n",
    "# Draw a scatter plot while assigning point colors and sizes to different\n",
    "# variables in the dataset\n",
    "f, ax = plt.subplots(figsize=(6.5, 6.5))\n",
    "sns.despine(f, left=True, bottom=True)\n",
    "clarity_ranking = [\"I1\", \"SI2\", \"SI1\", \"VS2\", \"VS1\", \"VVS2\", \"VVS1\", \"IF\"]\n",
    "sns.scatterplot(x=\"carat\", y=\"price\",\n",
    "                hue=\"clarity\", size=\"depth\",\n",
    "                palette=\"ch:r=-.8,d=.2_r\",\n",
    "                hue_order=clarity_ranking,\n",
    "                sizes=(1, 8), linewidth=0,\n",
    "                data=diamonds, ax=ax)\n",
    "\n",
    "# Set axis labels using Seaborn\n",
    "plt.ylabel(\"Price ($)\")\n",
    "plt.xlabel(\"Carat\")\n",
    "plt.title(\"Price per Carat\")\n",
    "plt.legend(\n",
    "    loc=\"upper left\", bbox_to_anchor=(1, 1),\n",
    ")"
   ]
  },
  {
   "cell_type": "markdown",
   "metadata": {},
   "source": [
    "Seaborn can handle large amounts of data to create an aesthetic graph. This data set is a lot larger with about 54000 values per columns it plots out the graph nicely showing the positive correlation between price and carat of diamonds."
   ]
  },
  {
   "cell_type": "code",
   "execution_count": null,
   "metadata": {},
   "outputs": [],
   "source": [
    "import numpy as np\n",
    "import seaborn as sns\n",
    "sns.set_theme(style=\"ticks\")\n",
    "\n",
    "penguins = sns.load_dataset(\"penguins\")\n",
    "a = sns.jointplot(x=\"flipper_length_mm\", y=\"body_mass_g\", #call the data\n",
    "               kind = \"hex\", #choose what kind of points you want on the graph\n",
    "                color=\"#4CB391\", #choose your color!\n",
    "                data=penguins)#call the data\n",
    "\n",
    "plt.ylabel(\"Body Mass (g)\")\n",
    "plt.xlabel(\"Flipper Length (mm)\")\n",
    "a.fig.suptitle(\"Joint Kernel Density Estimate of Bill Length vs Bill Depth (mm)\", y =1.02)"
   ]
  },
  {
   "cell_type": "markdown",
   "metadata": {},
   "source": [
    "This is the relationship between flipper length and body mass using the jointplot function with kind = hex (instead of scatter). the histograms created on each side shows the density in each area. "
   ]
  },
  {
   "cell_type": "markdown",
   "metadata": {},
   "source": [
    "https://chat.openai.com/c/4185b7cd-60b7-40f1-bfd8-a6cbf2e41b5a"
   ]
  },
  {
   "cell_type": "markdown",
   "metadata": {},
   "source": [
    "https://seaborn.pydata.org/examples/different_scatter_variables.html"
   ]
  }
 ],
 "metadata": {
  "kernelspec": {
   "display_name": "Python (squirrelgurlz)",
   "language": "python",
   "name": "squirrelgurlz"
  },
  "language_info": {
   "codemirror_mode": {
    "name": "ipython",
    "version": 3
   },
   "file_extension": ".py",
   "mimetype": "text/x-python",
   "name": "python",
   "nbconvert_exporter": "python",
   "pygments_lexer": "ipython3",
   "version": "3.10.13"
  },
  "orig_nbformat": 4
 },
 "nbformat": 4,
 "nbformat_minor": 2
}
