{
 "cells": [
  {
   "cell_type": "markdown",
   "metadata": {},
   "source": [
    "<hr style=\"border-top: 0.2px solid gray; margin-top: 12pt; margin-bottom: 0pt\"></hr>\n",
    "\n",
    "# Loading in Dataset"
   ]
  },
  {
   "cell_type": "code",
   "execution_count": null,
   "metadata": {},
   "outputs": [],
   "source": [
    "import numpy as np\n",
    "import matplotlib.pyplot as plt\n",
    "import pandas as pd \n",
    "import seaborn as sns\n",
    "\n",
    "penguins = sns.load_dataset(\"penguins\")\n",
    "\n"
   ]
  },
  {
   "cell_type": "markdown",
   "metadata": {},
   "source": [
    "<hr style=\"border-top: 0.2px solid gray; margin-top: 12pt; margin-bottom: 0pt\"></hr>\n",
    "\n",
    "# First Penguins Plot"
   ]
  },
  {
   "cell_type": "code",
   "execution_count": null,
   "metadata": {},
   "outputs": [],
   "source": [
    "# reclass penguins 'sex' column to categorical from string.\n",
    "# dropped NA values, reclassed NA's in 'sex' as -1\n",
    "penguins['sex'] = pd.Categorical(penguins['sex'], categories=penguins['sex'].dropna().unique())\n"
   ]
  },
  {
   "cell_type": "code",
   "execution_count": null,
   "metadata": {},
   "outputs": [],
   "source": [
    "# reclass penguins 'species' as categorical from string.\n",
    "# convert from string representation to integrer\n",
    "penguins['species' ]= penguins['species'].astype('category').cat.codes\n",
    "# reclass penguins 'species' as categorical from string.\n",
    "# convert from string representation to integrer\n",
    "penguins['island'] = penguins['island'].astype('category').cat.codes\n",
    "# reclass penguins 'sex' as categorical from string.\n",
    "# convert from string representation to integrer\n",
    "penguins['sex'] = penguins['sex'].astype('category').cat.codes\n",
    "# creates a correlation between columns\n",
    "corr = penguins.corr()\n"
   ]
  },
  {
   "cell_type": "code",
   "execution_count": null,
   "metadata": {},
   "outputs": [],
   "source": [
    "#set theme style\n",
    "sns.set_theme(style = \"white\")\n",
    "plt.subplots(figsize=(7,6))\n",
    "\n",
    "# Create mask for upper triangle (hides mirrored/symetric portion of heatmap)\n",
    "mask = np.triu(np.ones_like(corr, dtype=bool))\n",
    "\n",
    "# Create a custom diverging colormap\n",
    "cmap = sns.color_palette(\"flare\", as_cmap=True)\n",
    "\n",
    "# Create masked heatmap, max/highest density variable set to 1, center variable set to 0.5, set linewidth as .5, shrank size of colorbar to .5\n",
    "heatmap = sns.heatmap(corr, mask=mask, cmap=cmap, vmax=1, center=0.5,  linewidths=.5, annot = True, cbar_kws={\"shrink\": .5}).set(title= \"Palmer Penguins Correlation Heatmap\")\n"
   ]
  },
  {
   "cell_type": "markdown",
   "metadata": {},
   "source": [
    "<hr style=\"border-top: 0.2px solid gray; margin-top: 12pt; margin-bottom: 0pt\"></hr>\n",
    "\n",
    "# Second Penguins Plot"
   ]
  },
  {
   "cell_type": "code",
   "execution_count": null,
   "metadata": {},
   "outputs": [],
   "source": [
    "# Loaded second unaltered penguins dataset\n",
    "penguins2 = sns.load_dataset(\"penguins\")"
   ]
  },
  {
   "cell_type": "code",
   "execution_count": null,
   "metadata": {},
   "outputs": [],
   "source": [
    "# Set theme style\n",
    "sns.set_theme(style=\"darkgrid\")\n",
    "\n",
    "# Set plot size\n",
    "plt.subplots(figsize=(10, 7))\n",
    "\n",
    "# created layered histogram and scatter plot with contour density lines called ax\n",
    "\n",
    "# Density plot with 5 levels\n",
    "ax = sns.kdeplot(data = penguins2, x = \"body_mass_g\", y = \"flipper_length_mm\", levels = 5, fill = \"icefire\")\n",
    "# Histogram with 50 bins\n",
    "sns.histplot(data = penguins2, x = \"body_mass_g\", y = \"flipper_length_mm\", bins=50, cmap = \"crest\")\n",
    "# Scatterplot representing hue by species\n",
    "sns.scatterplot(data = penguins2, x = \"body_mass_g\", y = \"flipper_length_mm\", s=10, hue = \"species\", palette = \"BuPu\")\n",
    "\n",
    "# Set axis labels\n",
    "ax.set(xlabel='Body Mass (g)', ylabel='Flipper Length (mm)', title='Palmer Penguins Bivariate Plot')"
   ]
  },
  {
   "cell_type": "markdown",
   "metadata": {},
   "source": [
    "<hr style=\"border-top: 0.2px solid gray; margin-top: 12pt; margin-bottom: 0pt\"></hr>\n",
    "\n",
    "# Sources Used\n",
    "\n",
    "https://seaborn.pydata.org/generated/seaborn.color_palette.html\n",
    "\n",
    "https://stackoverflow.com/questions/51241575/calculate-correlation-between-columns-of-strings\n",
    "\n",
    "https://seaborn.pydata.org/generated/seaborn.histplot.html\n",
    "\n",
    "https://seaborn.pydata.org/generated/seaborn.kdeplot.html\n",
    "\n",
    "@article{Waskom2021,\n",
    "    doi = {10.21105/joss.03021},\n",
    "    url = {https://doi.org/10.21105/joss.03021},\n",
    "    year = {2021},\n",
    "    publisher = {The Open Journal},\n",
    "    volume = {6},\n",
    "    number = {60},\n",
    "    pages = {3021},\n",
    "    author = {Michael L. Waskom},\n",
    "    title = {seaborn: statistical data visualization},\n",
    "    journal = {Journal of Open Source Software}\n",
    " }"
   ]
  }
 ],
 "metadata": {
  "kernelspec": {
   "display_name": "squirrelgurlz",
   "language": "python",
   "name": "python3"
  },
  "language_info": {
   "codemirror_mode": {
    "name": "ipython",
    "version": 3
   },
   "file_extension": ".py",
   "mimetype": "text/x-python",
   "name": "python",
   "nbconvert_exporter": "python",
   "pygments_lexer": "ipython3",
   "version": "3.10.13"
  },
  "orig_nbformat": 4
 },
 "nbformat": 4,
 "nbformat_minor": 2
}
